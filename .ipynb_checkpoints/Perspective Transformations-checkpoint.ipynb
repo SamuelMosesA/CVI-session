{
 "cells": [
  {
   "attachments": {},
   "cell_type": "markdown",
   "metadata": {},
   "source": [
    "# Perspective Transform\n",
    "  It is any combination of rotation, scaling, reflection or shearing on an image\n",
    " ![perspective](./Assets/getperspective_transform_01.jpg)\n",
    " \n",
    " It can be done by just a matrix multiplication of the coordinates with a transformation matrix\n",
    " \n",
    " Example for Rotation\n",
    " \\begin{equation}\n",
    "\\left[\\begin{array}{l}\n",
    "x^{\\prime} \\\\\n",
    "y^{\\prime} \\\\\n",
    "1\n",
    "\\end{array}\\right]=\\left[\\begin{array}{lll}\n",
    "1 & 0 & t_{x} \\\\\n",
    "0 & 1 & t_{y} \\\\\n",
    "0 & 0 & 1\n",
    "\\end{array}\\right]\\left[\\begin{array}{l}\n",
    "x \\\\\n",
    "y \\\\\n",
    "1\n",
    "\\end{array}\\right]\n",
    "\\end{equation}\n",
    " \n",
    "![transform](./Assets/2D_affine_transformation_matrix.svg)\n",
    " "
   ]
  },
  {
   "cell_type": "markdown",
   "metadata": {},
   "source": [
    "<code>\n",
    "Calculates coefficients of perspective transformation \n",
    "/* which maps (xi,yi) to (ui,vi), (i=1,2,3,4):\n",
    " *      c00*xi + c01*yi + c02\n",
    " * ui = ---------------------\n",
    " *      c20*xi + c21*yi + c22\n",
    " *\n",
    " *      c10*xi + c11*yi + c12\n",
    " * vi = ---------------------\n",
    " *      c20*xi + c21*yi + c22\n",
    " *\n",
    " * Coefficients are calculated by solving linear system:\n",
    " * / x0 y0  1  0  0  0 -x0*u0 -y0*u0 \\ /c00\\ /u0\\\n",
    " * | x1 y1  1  0  0  0 -x1*u1 -y1*u1 | |c01| |u1|\n",
    " * | x2 y2  1  0  0  0 -x2*u2 -y2*u2 | |c02| |u2|\n",
    " * | x3 y3  1  0  0  0 -x3*u3 -y3*u3 |.|c10|=|u3|,\n",
    " * |  0  0  0 x0 y0  1 -x0*v0 -y0*v0 | |c11| |v0|\n",
    " * |  0  0  0 x1 y1  1 -x1*v1 -y1*v1 | |c12| |v1|\n",
    " * |  0  0  0 x2 y2  1 -x2*v2 -y2*v2 | |c20| |v2|\n",
    " * \\  0  0  0 x3 y3  1 -x3*v3 -y3*v3 / \\c21/ \\v3/\n",
    " *\n",
    " * where:\n",
    " *   cij - matrix coefficients, c22 = 1\n",
    " */\n",
    " </code>"
   ]
  },
  {
   "cell_type": "code",
   "execution_count": null,
   "metadata": {},
   "outputs": [],
   "source": []
  }
 ],
 "metadata": {
  "kernelspec": {
   "display_name": "Python 3",
   "language": "python",
   "name": "python3"
  },
  "language_info": {
   "codemirror_mode": {
    "name": "ipython",
    "version": 3
   },
   "file_extension": ".py",
   "mimetype": "text/x-python",
   "name": "python",
   "nbconvert_exporter": "python",
   "pygments_lexer": "ipython3",
   "version": "3.6.8"
  }
 },
 "nbformat": 4,
 "nbformat_minor": 4
}
