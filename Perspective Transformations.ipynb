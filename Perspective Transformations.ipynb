{
 "cells": [
  {
   "cell_type": "markdown",
   "metadata": {},
   "source": [
    "# Perspective Transform\n",
    "  It is any combination of rotation, scaling, reflection or shearing on an image\n",
    " ![perspective](./Assets/getperspective_transform_01.jpg)\n",
    " \n",
    " It can be done by just a matrix multiplication of the coordinates with a transformation matrix\n",
    " \n",
    " Example for Rotation\n",
    " \\begin{equation}\n",
    "\\left[\\begin{array}{l}\n",
    "x^{\\prime} \\\\\n",
    "y^{\\prime} \\\\\n",
    "1\n",
    "\\end{array}\\right]=\\left[\\begin{array}{lll}\n",
    "1 & 0 & t_{x} \\\\\n",
    "0 & 1 & t_{y} \\\\\n",
    "0 & 0 & 1\n",
    "\\end{array}\\right]\\left[\\begin{array}{l}\n",
    "x \\\\\n",
    "y \\\\\n",
    "1\n",
    "\\end{array}\\right]\n",
    "\\end{equation}\n",
    " \n",
    "![transform](./Assets/2D_affine_transformation_matrix.svg)\n",
    " "
   ]
  },
  {
   "cell_type": "code",
   "execution_count": 17,
   "metadata": {},
   "outputs": [],
   "source": [
    "import cv2\n",
    "import numpy as np\n",
    "import matplotlib.pyplot as plt\n",
    "\n",
    "billboard = cv2.imread('./Assets/billboard.png')\n",
    "widthb, heightb = billboard.shape[1]//3, billboard.shape[0]//3\n",
    "billboard = cv2.resize(billboard,(widthb, heightb))\n",
    "billboard_copy = billboard.copy()\n",
    "\n",
    "advert = cv2.imread('./Assets/advert.jpg')\n",
    "widtha, heighta = advert.shape[1]//8, advert.shape[0]//8\n",
    "advert = cv2.resize(advert, (widthb, heightb))"
   ]
  },
  {
   "cell_type": "code",
   "execution_count": 18,
   "metadata": {
    "collapsed": false,
    "jupyter": {
     "outputs_hidden": false
    },
    "pycharm": {
     "name": "#%%\n"
    }
   },
   "outputs": [],
   "source": [
    "cv2.imshow('billboard',billboard)\n",
    "cv2.waitKey(0)\n",
    "cv2.destroyAllWindows()"
   ]
  },
  {
   "cell_type": "code",
   "execution_count": 19,
   "metadata": {
    "collapsed": false,
    "jupyter": {
     "outputs_hidden": false
    },
    "pycharm": {
     "name": "#%%\n"
    }
   },
   "outputs": [],
   "source": [
    "cv2.imshow('advt',advert)\n",
    "cv2.waitKey(0)\n",
    "cv2.destroyAllWindows()"
   ]
  },
  {
   "cell_type": "code",
   "execution_count": 20,
   "metadata": {
    "collapsed": false,
    "jupyter": {
     "outputs_hidden": false
    },
    "pycharm": {
     "name": "#%%\n"
    }
   },
   "outputs": [],
   "source": [
    "corner_points = []\n",
    "def point_selection(event, x, y, flags, params):\n",
    "    if event == cv2.EVENT_LBUTTONDOWN:\n",
    "        corner_points.append([x,y])\n",
    "        cv2.circle(billboard_copy, (x,y), 3, (0,255,0),-1)\n",
    "        if len(corner_points)<=4:\n",
    "            cv2.imshow('selection', billboard_copy)\n",
    "\n",
    "\n"
   ]
  },
  {
   "cell_type": "code",
   "execution_count": 21,
   "metadata": {
    "collapsed": false,
    "jupyter": {
     "outputs_hidden": false
    },
    "pycharm": {
     "name": "#%%\n"
    }
   },
   "outputs": [
    {
     "name": "stdout",
     "output_type": "stream",
     "text": [
      "[[ 62.  18.]\n",
      " [ 52. 208.]\n",
      " [375. 236.]\n",
      " [369.  88.]]\n"
     ]
    }
   ],
   "source": [
    "cv2.imshow('selection', billboard_copy)\n",
    "cv2.setMouseCallback('selection',point_selection)\n",
    "cv2.waitKey(0)\n",
    "cv2.destroyAllWindows()\n",
    "corner_points = corner_points[:4]\n",
    "corner_points = np.array(corner_points, dtype='float32')\n",
    "print(corner_points)"
   ]
  },
  {
   "cell_type": "code",
   "execution_count": 22,
   "metadata": {
    "collapsed": false,
    "jupyter": {
     "outputs_hidden": false
    },
    "pycharm": {
     "name": "#%%\n"
    }
   },
   "outputs": [],
   "source": [
    "points_original = np.array([[0,0],[0,heightb], [widthb,heightb], [widthb,0]], dtype='float32')\n",
    "M = cv2.getPerspectiveTransform(points_original, corner_points)\n",
    "warped_advert = cv2.warpPerspective(advert, M, (widthb, heightb))\n",
    "cv2.imshow('advert' , warped_advert)\n",
    "cv2.waitKey(0)\n",
    "cv2.destroyAllWindows()"
   ]
  },
  {
   "cell_type": "markdown",
   "metadata": {},
   "source": [
    "Calculates coefficients of perspective transformation\n",
    "which maps $(x_i,y_i)$ to $(u_i,v_i), (i=1,2,3,4)$:\n",
    "\n",
    "\n",
    "$$\n",
    "u_i = \\frac{c_{00} \\times x_i + c_{01} \\times y_i + c_{02}}{c_{20} \\times x_i + c_{21} \\times y_i + c_{22}}\n",
    "$$\n",
    "\n",
    "\n",
    "$$\n",
    "\\mathrm{v}_i = \\frac{c_{10} \\times x_i + c_{11} \\times y_i + c_{12}}{c_{20} \\times x_i + c_{21} \\times y_i + c_{22}}\n",
    "$$\n",
    "\n",
    "\n",
    "Coefficients are calculated using this linear system\n",
    "\n",
    "\n",
    "$$\n",
    "\\left(\n",
    "\\begin{array}{rrrrrrrr}\n",
    "x 0 & y 0 & 1 & 0 & 0 & 0 & -x 0 \\times \\mathrm{u} 0 & -y 0 \\times \\mathrm{u} 0 \\\\\n",
    "x 1 & y 1 & 1 & 0 & 0 & 0 & -x 1 \\times \\mathrm{u} 1 & -y 1 \\times \\mathrm{u} 1 \\\\\n",
    "x 2 & y 2 & 1 & 0 & 0 & 0 & -x 2 \\times \\mathrm{u} 2 & -y 2 \\times \\mathrm{u} 2 \\\\\n",
    "x 3 & y 3 & 1 & 0 & 0 & 0 & -x 3 \\times \\mathrm{u} 3 & -y 3 \\times \\mathrm{u} 3 \\\\\n",
    "0 & 0 & 0 & x 0 & y 0 & 1 & -x 0 \\times \\mathrm{v} 0 & -y 0 \\times \\mathrm{v} 0 \\\\\n",
    "0 & 0 & 0 & x 1 & y 1 & 1 & -x 1 \\times \\mathrm{v} 1 & -y 1 \\times \\mathrm{v} 1 \\\\\n",
    "0 & 0 & 0 & x 2 & y 2 & 1 & -x 2 \\times \\mathrm{v} 2 & -y 2 \\times \\mathrm{v} 2 \\\\\n",
    "0 & 0 & 0 & x 3 & y 3 & 1 & -x 3 \\times \\mathrm{v} 3 & -y 3 \\times \\mathrm{v} 3\n",
    "\\end{array}\\right) \\cdot \n",
    "\\left(\n",
    "\\begin{array}{l}\n",
    "\\mathrm{c} 00 \\\\\n",
    "\\mathrm{c} 01 \\\\\n",
    "\\mathrm{c} 02 \\\\\n",
    "\\mathrm{c} 10 \\\\\n",
    "\\mathrm{c} 11 \\\\\n",
    "\\mathrm{c} 12 \\\\\n",
    "\\mathrm{c} 20 \\\\\n",
    "\\mathrm{c} 21\n",
    "\\end{array}\n",
    " \\right) =\n",
    " \\left(\n",
    " \\begin{array}{l}\n",
    "\\mathrm{u} 0 \\\\\n",
    "\\mathrm{u} 1 \\\\\n",
    "\\mathrm{u} 2 \\\\\n",
    "\\mathrm{u} 3 \\\\\n",
    "\\mathrm{v} 0 \\\\\n",
    "\\mathrm{v} 1 \\\\\n",
    "\\mathrm{v} 2 \\\\\n",
    "\\mathrm{v} 3\n",
    "\\end{array}\n",
    "\\right)\n",
    "$$\n",
    "\n",
    "\n",
    "where:\n",
    " $c_{ij}$ - matrix coefficients, $c_{22} = 1$"
   ]
  },
  {
   "cell_type": "code",
   "execution_count": 23,
   "metadata": {},
   "outputs": [],
   "source": [
    "def ordered_points(points):\n",
    "    ordered = np.zeros_like(points)\n",
    "    x_plus_y = np.sum(points, axis=1)\n",
    "    ordered[0] = points[np.argmin(x_plus_y)]\n",
    "    ordered[2] = points[np.argmax(x_plus_y)]\n",
    "\n",
    "    x_minus_y = np.diff(points, axis=1)\n",
    "    ordered[1] = points[np.argmin(x_minus_y)]\n",
    "    ordered[3] = points[np.argmax(x_minus_y)]\n",
    "\n",
    "    return ordered\n",
    "\n"
   ]
  },
  {
   "cell_type": "code",
   "execution_count": 24,
   "metadata": {
    "collapsed": false,
    "jupyter": {
     "outputs_hidden": false
    },
    "pycharm": {
     "name": "#%%\n"
    }
   },
   "outputs": [],
   "source": [
    "board_area = np.int32(ordered_points(corner_points))\n",
    "cv2.fillConvexPoly(billboard,board_area,(0,0,0))\n",
    "cv2.imshow('mask',billboard)\n",
    "cv2.waitKey(0)\n",
    "cv2.destroyAllWindows()\n",
    "\n",
    "billboard_final = cv2.bitwise_or(billboard,warped_advert)\n",
    "cv2.imshow('bill_with_advt', billboard_final)\n",
    "cv2.waitKey(0)\n",
    "cv2.destroyAllWindows()\n"
   ]
  }
 ],
 "metadata": {
  "kernelspec": {
   "display_name": "Python 3",
   "language": "python",
   "name": "python3"
  },
  "language_info": {
   "codemirror_mode": {
    "name": "ipython",
    "version": 3
   },
   "file_extension": ".py",
   "mimetype": "text/x-python",
   "name": "python",
   "nbconvert_exporter": "python",
   "pygments_lexer": "ipython3",
   "version": "3.8.5"
  }
 },
 "nbformat": 4,
 "nbformat_minor": 4
}
